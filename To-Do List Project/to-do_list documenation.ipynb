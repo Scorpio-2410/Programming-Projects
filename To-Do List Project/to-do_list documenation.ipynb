{
 "cells": [
  {
   "cell_type": "markdown",
   "metadata": {},
   "source": [
    "## Software Documentation"
   ]
  },
  {
   "cell_type": "markdown",
   "metadata": {},
   "source": [
    "#### Software Requirements:"
   ]
  },
  {
   "cell_type": "markdown",
   "metadata": {},
   "source": [
    "- Add tasks (button)\n",
    "- Remove tasks (select and button)\n",
    "- Complete tasks\n",
    "- Add priority levels to tasks, ie low, medium & high\n",
    "- Change priority levels of tasks"
   ]
  },
  {
   "cell_type": "markdown",
   "metadata": {},
   "source": [
    "#### Future Implementation Ideas"
   ]
  },
  {
   "cell_type": "markdown",
   "metadata": {},
   "source": [
    "- Sync with calendar\n",
    "- Add timeframes to tasks\n",
    "- Change timeframes of tasks\n",
    "- Reminder when nearing timeframe of tasks\n",
    "- Filter between To-Do List modes; Shopping List & Work List\n",
    "- Allow others to add/change/remove tasks\n",
    "- In Shopping mode instead of adding a priority on each item/task add a quanity of the item instead\n",
    "- Allow shared lists users to recieve notification when 50/100 percent of the tasks are complete"
   ]
  }
 ],
 "metadata": {
  "language_info": {
   "name": "python"
  }
 },
 "nbformat": 4,
 "nbformat_minor": 2
}
